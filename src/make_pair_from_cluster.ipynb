{
 "cells": [
  {
   "cell_type": "code",
   "execution_count": null,
   "id": "f93a8320-f5c4-4463-9d8f-1de6efe91dff",
   "metadata": {},
   "outputs": [],
   "source": [
    "# SA-surfaceを囲むクラスターモデルから各隣接分子とのペアファイルを作成します。\n",
    "# この処理が完了したら、make_calc_file_from_pairsを用いて計算ファイルを作成してください。\n",
    "\n"
   ]
  }
 ],
 "metadata": {
  "kernelspec": {
   "display_name": "Python 3",
   "language": "python",
   "name": "python3"
  },
  "language_info": {
   "codemirror_mode": {
    "name": "ipython",
    "version": 3
   },
   "file_extension": ".py",
   "mimetype": "text/x-python",
   "name": "python",
   "nbconvert_exporter": "python",
   "pygments_lexer": "ipython3",
   "version": "3.8.8"
  }
 },
 "nbformat": 4,
 "nbformat_minor": 5
}
