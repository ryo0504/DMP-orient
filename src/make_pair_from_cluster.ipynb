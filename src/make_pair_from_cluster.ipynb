{
 "cells": [
  {
   "cell_type": "code",
   "execution_count": 1,
   "id": "f93a8320-f5c4-4463-9d8f-1de6efe91dff",
   "metadata": {},
   "outputs": [],
   "source": [
    "# SA-surfaceを囲むクラスターモデルから各隣接分子とのペアファイルを作成します。\n",
    "# この処理が完了したら、make_calc_file_from_pairsを用いて計算ファイルを作成してください。"
   ]
  },
  {
   "cell_type": "code",
   "execution_count": 8,
   "id": "469d7cf0-af8e-4e07-8017-aa14c22b7dc4",
   "metadata": {},
   "outputs": [
    {
     "name": "stdout",
     "output_type": "stream",
     "text": [
      "Number of surrounding molecules: 16.0\n",
      "1\n",
      "2\n",
      "3\n",
      "4\n",
      "5\n",
      "6\n",
      "7\n",
      "8\n",
      "9\n",
      "10\n",
      "11\n",
      "12\n",
      "13\n",
      "14\n",
      "15\n",
      "16\n"
     ]
    }
   ],
   "source": [
    "import os\n",
    "\n",
    "file_path = 'data_for_cluster/C6/15D-C6_3@3_enol_result.gjf' \n",
    "\n",
    "file_name = file_path.split(\".gjf\")[0].split(\"/\")[-1]\n",
    "\n",
    "output_folder_path = file_path.split(file_name)[0]\n",
    "os.makedirs(output_folder_path, exist_ok=True)\n",
    "\n",
    "with open(file_path, 'r') as file:\n",
    "    lines = file.readlines()\n",
    "\n",
    "H_list = []\n",
    "# startとendを把握\n",
    "for i, line in enumerate(lines):\n",
    "    if lines[i].strip().endswith('H'):\n",
    "        H_list.append(i)\n",
    "    \n",
    "central_start_num = H_list[0]\n",
    "central_end_num = H_list[-1]\n",
    "\n",
    "# 中心分子の行数\n",
    "central_molecule_lines = central_end_num - central_start_num + 1\n",
    "\n",
    "# 中心分子のリスト\n",
    "central_molecule = lines[central_start_num:central_end_num + 1]\n",
    "\n",
    "# 周辺分子の行をカウント\n",
    "surrounding_molecule_lines = sum(1 for line in lines[central_end_num + 1:] if line.strip().endswith('M'))\n",
    "\n",
    "# 周辺分子の数を計算\n",
    "number_of_surrounding_molecules = surrounding_molecule_lines / central_molecule_lines\n",
    "\n",
    "print(\"Number of surrounding molecules:\", number_of_surrounding_molecules)\n",
    "\n",
    "# 周辺分子を指定してる最後の行\n",
    "surr_end_line = central_end_num + 1 + surrounding_molecule_lines\n",
    "\n",
    "# それぞれの周辺分子ごとにリストに保存\n",
    "surrounding_molecule_lines = [line for line in lines[central_end_num + 1:] if line.strip().endswith('M')]\n",
    "\n",
    "# 周辺分子ごとにデータを分離し、リストに追加\n",
    "surrounding_molecules = []\n",
    "for i in range(0, len(surrounding_molecule_lines), central_molecule_lines):\n",
    "    molecule = surrounding_molecule_lines[i:i + central_molecule_lines]\n",
    "    surrounding_molecules.append(molecule)\n",
    "\n",
    "for i, surr_molecule in enumerate(surrounding_molecules):\n",
    "#     ペア1から16までを作成\n",
    "    print(i+1)\n",
    "#     print(central_molecule, surr_molecule)\n",
    "\n",
    "# 各周辺分子を個別のファイルに書き出す\n",
    "for i, surr_molecule in enumerate(surrounding_molecules):\n",
    "    # ファイル名を設定（pair_1.gjf, pair_2.gjf, ...gjf）\n",
    "    output_file_name = file_name + f\"_pair_{i+1}.gjf\"\n",
    "    output_file_path = os.path.join(output_folder_path, output_file_name)\n",
    "    \n",
    "    pair_i = central_molecule + surr_molecule\n",
    "    with open(file_path, 'r') as file:\n",
    "        lines = file.readlines()\n",
    "\n",
    "#     中心＋周辺をpairで置換する\n",
    "    lines[central_start_num:surr_end_line] = pair_i\n",
    "\n",
    "    # ファイルに書き出す\n",
    "    with open(output_file_path, 'w') as file:\n",
    "        file.writelines(lines)"
   ]
  },
  {
   "cell_type": "code",
   "execution_count": 2,
   "id": "e11c4c7b-1371-4e34-aa40-3d9ea2ec5d89",
   "metadata": {},
   "outputs": [
    {
     "data": {
      "text/plain": [
       "16.0"
      ]
     },
     "execution_count": 2,
     "metadata": {},
     "output_type": "execute_result"
    }
   ],
   "source": [
    "number_of_surrounding_molecules"
   ]
  },
  {
   "cell_type": "code",
   "execution_count": 6,
   "id": "c70a5cbe-126c-48bc-8a5d-96dc35a2e35d",
   "metadata": {},
   "outputs": [
    {
     "data": {
      "text/plain": [
       "80"
      ]
     },
     "execution_count": 6,
     "metadata": {},
     "output_type": "execute_result"
    }
   ],
   "source": [
    "central_end_num"
   ]
  },
  {
   "cell_type": "code",
   "execution_count": null,
   "id": "c1c34021-b0a7-4d7f-9ca4-08b015ca6c02",
   "metadata": {},
   "outputs": [],
   "source": []
  }
 ],
 "metadata": {
  "kernelspec": {
   "display_name": "Python 3",
   "language": "python",
   "name": "python3"
  },
  "language_info": {
   "codemirror_mode": {
    "name": "ipython",
    "version": 3
   },
   "file_extension": ".py",
   "mimetype": "text/x-python",
   "name": "python",
   "nbconvert_exporter": "python",
   "pygments_lexer": "ipython3",
   "version": "3.8.8"
  }
 },
 "nbformat": 4,
 "nbformat_minor": 5
}
