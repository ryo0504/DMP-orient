{
 "cells": [
  {
   "cell_type": "code",
   "execution_count": 10,
   "id": "1323aa10-5b5b-4ec9-a702-fc6f3a8277a5",
   "metadata": {},
   "outputs": [],
   "source": [
    "input_path = \"data/15dCn/C6/monob.dmp\"\n",
    "output_path = \"data/15dCn/C6/monob.inp\""
   ]
  },
  {
   "cell_type": "code",
   "execution_count": 11,
   "id": "c3db626f-1f76-4105-9d4e-46eb548dee88",
   "metadata": {},
   "outputs": [
    {
     "data": {
      "text/plain": [
       "'data/15dCn/C6/monob.inp'"
      ]
     },
     "execution_count": 11,
     "metadata": {},
     "output_type": "execute_result"
    }
   ],
   "source": [
    "def process_file_with_continuous_numbering(input_path, output_path):\n",
    "    # Read the input file\n",
    "    with open(input_path, 'r') as file:\n",
    "        lines = file.readlines()\n",
    "\n",
    "    # Process the file with continuous atom numbering\n",
    "    processed_lines = []\n",
    "    atom_number = 0  # Counter for continuous atom numbering\n",
    "\n",
    "    for line in lines:\n",
    "        # Skip the specified lines at the beginning\n",
    "        if line.strip().startswith('!') or line.strip().startswith('Units'):\n",
    "            continue\n",
    "        \n",
    "        # Replace atom with atom + atom_number and \"Rank  4\" with \"Limit  4  Type X\"\n",
    "        if \"Rank  4\" in line:\n",
    "            atom = line.split()[0]\n",
    "            atom_number += 1\n",
    "            new_line = line.replace(atom, atom + str(atom_number))\n",
    "            new_line = new_line.replace(\"Rank  4\", f\"Limit  4  Type {atom}\")\n",
    "        else:\n",
    "            new_line = line\n",
    "        processed_lines.append(new_line)\n",
    "\n",
    "    # Add the specified line at the beginning and end of the file\n",
    "    processed_lines.insert(0, \"Molecule monomer2 at x y z rotated alpha beta gamma\\n\")\n",
    "    processed_lines.append(\"end\\n\")\n",
    "\n",
    "    # Write the processed content to the output file\n",
    "    with open(output_path, 'w') as file:\n",
    "        file.writelines(processed_lines)\n",
    "\n",
    "# Re-process the file with continuous atom numbering\n",
    "process_file_with_continuous_numbering(input_path, output_path)\n",
    "\n",
    "output_path\n"
   ]
  },
  {
   "cell_type": "code",
   "execution_count": 12,
   "id": "11deaf8f-4f57-4b7d-95ae-c7d753a03499",
   "metadata": {},
   "outputs": [
    {
     "ename": "SyntaxError",
     "evalue": "invalid syntax (<ipython-input-12-6fe6c2f486fd>, line 1)",
     "output_type": "error",
     "traceback": [
      "\u001b[0;36m  File \u001b[0;32m\"<ipython-input-12-6fe6c2f486fd>\"\u001b[0;36m, line \u001b[0;32m1\u001b[0m\n\u001b[0;31m    Molecule monomer2 at x y z rotated alpha beta gamma\u001b[0m\n\u001b[0m             ^\u001b[0m\n\u001b[0;31mSyntaxError\u001b[0m\u001b[0;31m:\u001b[0m invalid syntax\n"
     ]
    }
   ],
   "source": [
    "Molecule monomer2 at x y z rotated alpha beta gamma"
   ]
  },
  {
   "cell_type": "code",
   "execution_count": null,
   "id": "d7d5013c-dbd7-41db-9dc7-b5f2256e7446",
   "metadata": {},
   "outputs": [],
   "source": []
  }
 ],
 "metadata": {
  "kernelspec": {
   "display_name": "Python 3",
   "language": "python",
   "name": "python3"
  },
  "language_info": {
   "codemirror_mode": {
    "name": "ipython",
    "version": 3
   },
   "file_extension": ".py",
   "mimetype": "text/x-python",
   "name": "python",
   "nbconvert_exporter": "python",
   "pygments_lexer": "ipython3",
   "version": "3.8.8"
  }
 },
 "nbformat": 4,
 "nbformat_minor": 5
}
