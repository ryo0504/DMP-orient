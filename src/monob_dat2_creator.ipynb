{
 "cells": [
  {
   "cell_type": "code",
   "execution_count": 10,
   "id": "3bbaa7ee-072c-45b4-a47a-1ddf3784c401",
   "metadata": {},
   "outputs": [],
   "source": [
    "# monoa.inpの例\n",
    "# Molecule monomer1 at 0.0 0.0 0.0 rotated 0.0 0.0 0.0\n",
    "\n",
    "# C1          19.7234495000   18.2241408000    0.4074249520    Limit  4  Type C\n",
    "#   -0.0174475138\n",
    "#   -0.0075274830   0.0304601666  -0.0477339271\n",
    "#   -0.3349517782   0.6060689564   0.9107206441   0.2115292816  -0.3373245518\n",
    "#   -0.2063032492  -0.4397718113   0.1149927278  -0.4509071494  -0.5036475878\n",
    "#    0.1885360346  -0.7199235877\n",
    "#    0.7369592032   0.4770956072   0.3805801214   0.4971019407  -1.4585567428\n",
    "#   -0.8032422667  -0.2097750305   0.3074083961   0.3285446113\n",
    "\n",
    "input_path = \"data/15dCn/C6/monob.inp\"\n",
    "output_path = \"data/15dCn/C6/dat2_monob_include_H_3au.txt\"\n",
    "# output_path = \"dat2_monob_include_H_3au.txt\"\n",
    "\n",
    "H_flag = True\n",
    "# H_flag = False"
   ]
  },
  {
   "cell_type": "code",
   "execution_count": 11,
   "id": "0a2758e4-89b2-4e81-87c7-5149c9992b96",
   "metadata": {},
   "outputs": [],
   "source": [
    "# まずはorient用に作成したinpファイルから原子を取り出す\n",
    "atom_list = []\n",
    "atom_type_list = []\n",
    "with open(input_path, 'r') as file:\n",
    "    lines = file.readlines()\n",
    "\n",
    "    # Process the file with continuous atom numbering\n",
    "    \n",
    "\n",
    "    for line in lines:\n",
    "        # Replace atom with atom + atom_number and \"Rank  4\" with \"Limit  4  Type X\"\n",
    "        if \"Limit  4  Type\" in line:\n",
    "            atom_and_num = line.split()[0]\n",
    "            atom_type = line.split()[-1]\n",
    "            atom_list.append(atom_and_num)\n",
    "            atom_type_list.append(atom_type)"
   ]
  },
  {
   "cell_type": "code",
   "execution_count": 12,
   "id": "c1368199-b7ad-41c7-a202-c1f4be0f83cd",
   "metadata": {},
   "outputs": [],
   "source": [
    "def process_atoms_and_write_to_file(atom_list, atom_type_list, output_path, H_flag):\n",
    "    processed_lines = []\n",
    "    O_line = [' 0  0  0  0\\n', ' 0  6  0  0\\n', ' 0  0  6  0\\n', ' 0  0  0  6\\n']\n",
    "    C_line = [' 0  0  0  0\\n', ' 0  10  0  0\\n', ' 0  0  10  0\\n', ' 0  0  0  10\\n']\n",
    "    N_line = [' 0  0  0  0\\n', ' 0  8  0  0\\n', ' 0  0  8  0\\n', ' 0  0  0  8\\n']\n",
    "    H_line = [' 0  0  0  0\\n', ' 0  3  0  0\\n', ' 0  0  3  0\\n', ' 0  0  0  3\\n']\n",
    "\n",
    "    for i, atom in enumerate(atom_list):\n",
    "        atom_description = \"Read rank 1 sites \" + atom + \"\\n\"\n",
    "\n",
    "        if H_flag and atom_type_list[i] == \"H\":\n",
    "            processed_lines.append(atom_description)\n",
    "            processed_lines.extend(H_line)\n",
    "\n",
    "        elif atom_type_list[i] == \"C\":\n",
    "            processed_lines.append(atom_description)\n",
    "            processed_lines.extend(C_line)\n",
    "\n",
    "        elif atom_type_list[i] == \"N\":\n",
    "            processed_lines.append(atom_description)\n",
    "            processed_lines.extend(N_line)\n",
    "\n",
    "        elif atom_type_list[i] == \"O\":\n",
    "            processed_lines.append(atom_description)\n",
    "            processed_lines.extend(O_line)\n",
    "\n",
    "    with open(output_path, 'w') as file:\n",
    "        file.writelines(processed_lines)\n",
    "\n",
    "\n",
    "process_atoms_and_write_to_file(atom_list, atom_type_list, output_path, H_flag)\n"
   ]
  },
  {
   "cell_type": "code",
   "execution_count": null,
   "id": "ff961581-e6ca-495b-b237-880b2ebe8e66",
   "metadata": {},
   "outputs": [],
   "source": []
  }
 ],
 "metadata": {
  "kernelspec": {
   "display_name": "Python 3",
   "language": "python",
   "name": "python3"
  },
  "language_info": {
   "codemirror_mode": {
    "name": "ipython",
    "version": 3
   },
   "file_extension": ".py",
   "mimetype": "text/x-python",
   "name": "python",
   "nbconvert_exporter": "python",
   "pygments_lexer": "ipython3",
   "version": "3.8.8"
  }
 },
 "nbformat": 4,
 "nbformat_minor": 5
}
