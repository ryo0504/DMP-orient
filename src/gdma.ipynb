{
 "cells": [
  {
   "cell_type": "code",
   "execution_count": 6,
   "id": "92c0e064-43fa-4279-83d6-af58210cb7a0",
   "metadata": {},
   "outputs": [],
   "source": [
    "# フォルダ内のfchkファイルを参照し、dgma.monoa_pair_n.datを作成します\n",
    "# monoa、monobの計算後に実行してください\n",
    "\n",
    "import os\n",
    "import glob\n",
    "\n",
    "# フォルダの指定\n",
    "data_dir = \"data/test/*.fchk\"\n",
    "out_dir = data_dir.split(\"*.fchk\")[0].replace(\"data\", \"result\")\n",
    "os.makedirs(out_dir, exist_ok=True)\n",
    "\n",
    "paths = [p for p in glob.glob(data_dir)]\n",
    "\n",
    "# ファイルの雛形\n",
    "initial_content = ['Title \"title_name\"\\n',\n",
    "                    'File fchk_file_name  \\n',\n",
    "                    '\\n',\n",
    "                    '\\n',\n",
    "                    'Multipoles    \\n',\n",
    "                    '  Limit 4\\n',\n",
    "                    '  Limit 4 H\\n',\n",
    "                    '  Radius H 0.325\\n',\n",
    "                    '  Punch dmp_file_name \\n',\n",
    "                    'START\\n',\n",
    "                    '\\n',\n",
    "                    'Finish\\n']\n",
    "\n",
    "\n",
    "modified_contents = []\n",
    "\n",
    "for path in paths:\n",
    "    modified_content = []\n",
    "    file_name = path.split(\".fchk\")[0].split(\"/\")[-1]\n",
    "    a_or_b = file_name.split(\"_\")[0]\n",
    "    pair_n = \"_\".join(file_name.split(\"_\")[-2:])\n",
    "#     ファイル名\n",
    "    title = pair_n\n",
    "    fchk_file_name = file_name + \".fchk\"\n",
    "    \n",
    "    if a_or_b == \"monoa\":\n",
    "        dmp_file_name = \"monoa_\" + pair_n + \".dmp\"\n",
    "        dgma_dat_file_name = f\"dgma.monoa_{pair_n}.dat\"\n",
    "    elif a_or_b == \"monob\":\n",
    "        dmp_file_name = \"monob_\" + pair_n + \".dmp\"\n",
    "        dgma_dat_file_name = f\"dgma.monob_{pair_n}.dat\"\n",
    "    \n",
    "    for line in initial_content:\n",
    "        modified_line = line.replace('title_name', \"_\".join([title, a_or_b])).replace('dmp_file_name', dmp_file_name).replace(\"fchk_file_name\", fchk_file_name)\n",
    "        modified_content.append(modified_line)\n",
    "        \n",
    "#         同じファイル名で保存\n",
    "    with open(out_dir + dgma_dat_file_name, mode=\"w\", encoding=\"cp932\") as f:\n",
    "        for line in modified_content:\n",
    "            f.write(line)\n"
   ]
  },
  {
   "cell_type": "code",
   "execution_count": null,
   "id": "2ee96043-487c-4ff5-a270-b837185604b1",
   "metadata": {},
   "outputs": [],
   "source": []
  },
  {
   "cell_type": "code",
   "execution_count": null,
   "id": "a39450bd-fe72-415f-879e-d5235b77adec",
   "metadata": {},
   "outputs": [],
   "source": []
  }
 ],
 "metadata": {
  "kernelspec": {
   "display_name": "Python 3",
   "language": "python",
   "name": "python3"
  },
  "language_info": {
   "codemirror_mode": {
    "name": "ipython",
    "version": 3
   },
   "file_extension": ".py",
   "mimetype": "text/x-python",
   "name": "python",
   "nbconvert_exporter": "python",
   "pygments_lexer": "ipython3",
   "version": "3.8.8"
  }
 },
 "nbformat": 4,
 "nbformat_minor": 5
}
