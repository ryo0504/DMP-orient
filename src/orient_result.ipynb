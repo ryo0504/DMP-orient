{
 "cells": [
  {
   "cell_type": "code",
   "execution_count": 10,
   "id": "997fda5e-eac6-4b35-91f4-adb872acb7c8",
   "metadata": {},
   "outputs": [
    {
     "data": {
      "text/plain": [
       "'result/SPA/Type_2_ck_at_E/orient_result/S-C2_A/dim3_pair_9.csv'"
      ]
     },
     "execution_count": 10,
     "metadata": {},
     "output_type": "execute_result"
    }
   ],
   "source": [
    "import os\n",
    "import csv\n",
    "import re\n",
    "\n",
    "# フォルダのパスを指定\n",
    "folder_path = 'data/SPA/Type_2_ck_at_E/orient_result/S-C2_A/'\n",
    "\n",
    "# CSVファイルのパス\n",
    "output_csv_path = folder_path.replace(\"data\", \"result\")\n",
    "os.makedirs(output_csv_path, exist_ok=True)\n",
    "\n",
    "# CSVファイルのヘッダー\n",
    "headers = [\n",
    "    'File Name', 'Electrostatic Energy','Repulsion Energy', 'Induction Energy', 'Dispersion Energy', 'Total Energy'\n",
    "]\n",
    "\n",
    "# CSVファイルに書き込むためのデータを保持するリスト\n",
    "csv_data = []\n",
    "\n",
    "# フォルダ内の全ファイルを走査\n",
    "for filename in os.listdir(folder_path):\n",
    "    # .out ファイルのみを処理\n",
    "    if filename.startswith('dim3_') and filename.endswith('.out'):\n",
    "        file_path = os.path.join(folder_path, filename)\n",
    "\n",
    "        # ファイルを開いて必要なデータを抽出\n",
    "        with open(file_path, 'r') as file:\n",
    "            content = file.read()\n",
    "\n",
    "            # エネルギー値を抽出\n",
    "            electrostatic = re.search(r\"Electrostatic energy\\s+([-0-9.]+) kJ/mol\", content)\n",
    "            repulsion = re.search(r\"Repulsion energy\\s+([-0-9.]+) kJ/mol\", content)\n",
    "            induction = re.search(r\"Induction energy\\s+([-0-9.]+) kJ/mol\", content)\n",
    "            dispersion = re.search(r\"Dispersion energy\\s+([-0-9.]+) kJ/mol\", content)\n",
    "            total = re.search(r\"Total\\s+([-0-9.]+) kJ/mol\", content)\n",
    "\n",
    "            # エネルギー値をリストに追加\n",
    "            csv_data.append([\n",
    "                filename,\n",
    "                float(electrostatic.group(1)) if electrostatic else None,\n",
    "                float(repulsion.group(1)) if repulsion else None,\n",
    "                float(induction.group(1)) if induction else None,\n",
    "                float(dispersion.group(1)) if dispersion else None,\n",
    "                float(total.group(1)) if total else None\n",
    "            ])\n",
    "\n",
    "output_csv_path = output_csv_path + filename.replace(\"out\", \"csv\")\n",
    "            \n",
    "# CSVファイルにデータを書き込む\n",
    "with open(output_csv_path, 'w', newline='') as csvfile:\n",
    "    writer = csv.writer(csvfile)\n",
    "    writer.writerow(headers)\n",
    "    writer.writerows(csv_data)\n",
    "\n",
    "output_csv_path\n"
   ]
  },
  {
   "cell_type": "code",
   "execution_count": null,
   "id": "c637b847-a011-4727-96a6-ef0c9214bf2c",
   "metadata": {},
   "outputs": [],
   "source": []
  }
 ],
 "metadata": {
  "kernelspec": {
   "display_name": "Python 3",
   "language": "python",
   "name": "python3"
  },
  "language_info": {
   "codemirror_mode": {
    "name": "ipython",
    "version": 3
   },
   "file_extension": ".py",
   "mimetype": "text/x-python",
   "name": "python",
   "nbconvert_exporter": "python",
   "pygments_lexer": "ipython3",
   "version": "3.8.8"
  }
 },
 "nbformat": 4,
 "nbformat_minor": 5
}
