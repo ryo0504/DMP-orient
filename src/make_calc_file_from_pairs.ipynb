{
 "cells": [
  {
   "cell_type": "code",
   "execution_count": 5,
   "id": "99f3270b-38dc-43eb-9bbc-5da34ede6d3d",
   "metadata": {},
   "outputs": [],
   "source": [
    "import pandas as pd\n",
    "import os\n",
    "import seaborn as sns\n",
    "import numpy as np\n",
    "import datetime\n",
    "import matplotlib\n",
    "import matplotlib.pyplot as plt\n",
    "%matplotlib inline\n",
    "\n",
    "input_path = \"data/15dCn/15dC2_Enol@3_result_pair_1.gjf\"\n",
    "input_folder_path = \"data/15dCn/C1/\"\n",
    "\n",
    "sample = input_path.split(\"/\")[-1].split(\"@\")[0]\n",
    "pair_n = input_path.split(\"/\")[-1].split(\"_\")[-1]\n",
    "\n",
    "f_namae = input_path.split(\"/\")[-1].split(\".gjf\")[0]\n",
    "\n",
    "out_dir = input_path.split(f_namae)[0].replace(\"data\", \"result\")\n",
    "os.makedirs(out_dir, exist_ok=True)\n",
    "\n",
    "output_path_CP = out_dir + f_namae + \"_CP\"\n",
    "output_path_monoa = out_dir + f_namae + \"_a\"\n",
    "output_path_monob = out_dir + f_namae + \"_b\"\n",
    "\n",
    "# 新しい5行目の内容\n",
    "new_line_5 = '#P TEST b3lyp/6-311G** Empiricaldispersion=gd3 counterpoise=2\\n'\n",
    "new_line_9 = \"0 1 0 1 0 1\\n\"\n",
    "start_keyword = \"X   1   r4   2   a4   3   d4\"  # セクションの開始を示すキーワード\n",
    "end_keyword = \"Constants:\"    # セクションの終了を示すキーワード\n",
    "\n",
    "new_line_5_mono = \"#P TEST b3lyp/6-311G** nosymm\\n\"\n",
    "new_line_0_monoa = \"%chk=\" + \"monoa_\" + sample + \"_\" + \"pair_\" + pair_n + \"\\n\"\n",
    "new_line_0_monob = \"%chk=\" + \"monob_\" + sample + \"_\" + \"pair_\" + pair_n + \"\\n\"\n",
    "\n",
    "\n",
    "def process_file_CP(input_path, output_path):\n",
    "    # Read the input file\n",
    "    with open(input_path, 'r') as file:\n",
    "        lines = file.readlines()\n",
    "    \n",
    "    # 5行目を置き換える\n",
    "    lines[4] = new_line_5\n",
    "    # 0 1 0 1 0 1に書き換え\n",
    "    lines[8] = new_line_9\n",
    "    \n",
    "    start_line = end_line = None\n",
    "    for i, line in enumerate(lines):\n",
    "        if start_keyword in line:\n",
    "            start_line = i\n",
    "        elif end_keyword in line:\n",
    "            end_line = i\n",
    "            break  # 終了キーワードが見つかったらループを抜ける\n",
    "\n",
    "#     HとMの書き換え\n",
    "    if start_line is not None and end_line is not None:\n",
    "        for i in range(start_line, end_line + 1):\n",
    "            if lines[i].strip().endswith('H'):\n",
    "                lines[i] = lines[i].rstrip('H\\n') + '1\\n'\n",
    "            elif lines[i].strip().endswith('M'):\n",
    "                lines[i] = lines[i].rstrip('M\\n') + '2\\n'\n",
    "\n",
    "    # Write the processed content to the output file\n",
    "    with open(output_path, 'w') as file:\n",
    "        file.writelines(lines)\n",
    "\n",
    "        \n",
    "def process_file_monoa(input_path, output_path):\n",
    "    # Read the input file\n",
    "    with open(input_path, 'r') as file:\n",
    "        lines = file.readlines()\n",
    "    \n",
    "    lines[0] = new_line_0_monoa\n",
    "    # 5行目を置き換える\n",
    "    lines[4] = new_line_5_mono\n",
    "    \n",
    "    start_line = end_line = None\n",
    "    for i, line in enumerate(lines):\n",
    "        if start_keyword in line:\n",
    "            start_line = i\n",
    "        elif end_keyword in line:\n",
    "            end_line = i\n",
    "            break  # 終了キーワードが見つかったらループを抜ける    \n",
    "                \n",
    "    if start_line is not None and end_line is not None:\n",
    "        new_lines = []\n",
    "        for i in range(start_line, end_line - 1):\n",
    "            if not lines[i].strip().endswith('M'):\n",
    "                lines[i] = lines[i].rstrip('H\\n') + '1\\n'\n",
    "                new_lines.append(lines[i])\n",
    "        lines[start_line:end_line - 1] = new_lines\n",
    "\n",
    "    with open(output_path, 'w') as file:\n",
    "        file.writelines(lines)\n",
    "\n",
    "def process_file_monob(input_path, output_path):\n",
    "    # Read the input file\n",
    "    with open(input_path, 'r') as file:\n",
    "        lines = file.readlines()\n",
    "    \n",
    "    lines[0] = new_line_0_monob\n",
    "    # 5行目を置き換える\n",
    "    lines[4] = new_line_5_mono\n",
    "    \n",
    "    start_line = end_line = None\n",
    "    for i, line in enumerate(lines):\n",
    "        if start_keyword in line:\n",
    "            start_line = i\n",
    "        elif end_keyword in line:\n",
    "            end_line = i\n",
    "            break  # 終了キーワードが見つかったらループを抜ける    \n",
    "                \n",
    "    if start_line is not None and end_line is not None:\n",
    "        new_lines = []\n",
    "        for i in range(start_line, end_line - 1):\n",
    "            if not lines[i].strip().endswith('H'):\n",
    "                lines[i] = lines[i].rstrip('M\\n') + '1\\n'\n",
    "                new_lines.append(lines[i])\n",
    "        lines[start_line:end_line - 1] = new_lines\n",
    "\n",
    "    with open(output_path, 'w') as file:\n",
    "        file.writelines(lines)"
   ]
  },
  {
   "cell_type": "code",
   "execution_count": 27,
   "id": "3599a8b3-b445-4bc3-aeb8-70222a29e68f",
   "metadata": {},
   "outputs": [],
   "source": [
    "# Re-process the file with continuous atom numbering\n",
    "process_file_CP(input_path, output_path_CP)\n",
    "process_file_monoa(input_path, output_path_monoa)\n",
    "process_file_monob(input_path, output_path_monob)"
   ]
  },
  {
   "cell_type": "code",
   "execution_count": 15,
   "id": "5cfebe85-5ced-4e9a-bb0b-33705407d639",
   "metadata": {},
   "outputs": [],
   "source": [
    "# フォルダ内のファイルをまとめて実行する場合\n",
    "input_folder_path = \"data/15dCn/C7/\"\n",
    "out_dir = input_folder_path.replace(\"data\", \"result\")\n",
    "os.makedirs(out_dir, exist_ok=True)\n",
    "\n",
    "for filename in os.listdir(input_folder_path):\n",
    "    if filename.endswith('.gjf'):  # ここでファイルの種類を指定\n",
    "        \n",
    "        input_path = os.path.join(input_folder_path, filename)\n",
    "        sample = input_path.split(\"/\")[-1].split(\"@\")[0]\n",
    "        pair_n = input_path.split(\"/\")[-1].split(\"_\")[-1]\n",
    "        f_namae = input_path.split(\"/\")[-1].split(\".gjf\")[0]\n",
    "\n",
    "        output_path_CP = out_dir + f_namae + \"_CP\"\n",
    "        output_path_monoa = out_dir + f_namae + \"_a\"\n",
    "        output_path_monob = out_dir + f_namae + \"_b\"\n",
    "        \n",
    "        process_file_CP(input_path, output_path_CP)\n",
    "        process_file_monoa(input_path, output_path_monoa)\n",
    "        process_file_monob(input_path, output_path_monob)\n"
   ]
  },
  {
   "cell_type": "code",
   "execution_count": 7,
   "id": "1dd02b7d-d8dd-4b76-898e-e29f18011cd5",
   "metadata": {},
   "outputs": [
    {
     "data": {
      "text/plain": [
       "'result/15dCn/'"
      ]
     },
     "execution_count": 7,
     "metadata": {},
     "output_type": "execute_result"
    }
   ],
   "source": [
    "out_dir"
   ]
  },
  {
   "cell_type": "code",
   "execution_count": 9,
   "id": "0a695b85-a1e1-44f5-9bef-4de6749a7a3d",
   "metadata": {},
   "outputs": [
    {
     "data": {
      "text/plain": [
       "'data/15dCn/C1/15D-C1_93K_EnolEnol@EnolEnol_result_pair_6.gjf'"
      ]
     },
     "execution_count": 9,
     "metadata": {},
     "output_type": "execute_result"
    }
   ],
   "source": [
    "input_path"
   ]
  },
  {
   "cell_type": "code",
   "execution_count": null,
   "id": "d926fb82-986f-40dd-a331-e82e0d90cabd",
   "metadata": {},
   "outputs": [],
   "source": []
  }
 ],
 "metadata": {
  "kernelspec": {
   "display_name": "Python 3",
   "language": "python",
   "name": "python3"
  },
  "language_info": {
   "codemirror_mode": {
    "name": "ipython",
    "version": 3
   },
   "file_extension": ".py",
   "mimetype": "text/x-python",
   "name": "python",
   "nbconvert_exporter": "python",
   "pygments_lexer": "ipython3",
   "version": "3.8.8"
  }
 },
 "nbformat": 4,
 "nbformat_minor": 5
}
