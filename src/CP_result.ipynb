{
 "cells": [
  {
   "cell_type": "code",
   "execution_count": 10,
   "id": "18163d6a-e0ab-4aa8-80a0-3108415853a1",
   "metadata": {},
   "outputs": [],
   "source": [
    "# TODO 出力カラムのズレとD3補正しない値()、相互作用エネの計算(ドライブにある)\n",
    "\n",
    "import os\n",
    "import csv\n",
    "\n",
    "# フォルダのパスを指定\n",
    "folder_path = 'data/SPA/Type_2_ck_at_E/B2_B_CP/'\n",
    "\n",
    "# CSVファイルのパス\n",
    "output_csv_path = folder_path.replace(\"data\", \"result\")\n",
    "os.makedirs(output_csv_path, exist_ok=True)\n",
    "\n",
    "# CSVファイルのヘッダー\n",
    "headers = ['File Name', 'count', 'SCF Done Value (D3-corrected)', 'Grimme-D3 Dispersion Energy', 'SCF Done Value (B3LYP)']\n",
    "\n",
    "# CSVファイルに書き込むためのデータを格納するリスト\n",
    "csv_data = []\n",
    "\n",
    "# フォルダ内の全ファイルを走査\n",
    "for filename in os.listdir(folder_path):\n",
    "    # .out ファイルのみを処理\n",
    "    if filename.endswith('.out'):\n",
    "        file_path = os.path.join(folder_path, filename)\n",
    "\n",
    "        # ファイルを開いて必要なデータを抽出\n",
    "        with open(file_path, 'r') as file:\n",
    "            scf_done_values = []\n",
    "            grimme_d3_values = []\n",
    "\n",
    "            for line in file:\n",
    "                if 'SCF Done:  E(RB3LYP)' in line:\n",
    "                    # SCF Doneの値を抽出\n",
    "                    scf_done = float(line.split('=')[1].split('A.U.')[0].strip())\n",
    "                    scf_done_values.append(scf_done)\n",
    "                elif 'Grimme-D3 Dispersion energy=' in line:\n",
    "                    # Grimme-D3 Dispersion energyの値を抽出\n",
    "                    grimme_d3 = float(line.split('=')[1].split(\"Hartrees\")[0].strip())\n",
    "                    grimme_d3_values.append(grimme_d3)\n",
    "\n",
    "            # SCF DoneとGrimme-D3 Dispersion energyの値を組み合わせてCSVデータを作成\n",
    "            for i, (scf_done, grimme_d3) in enumerate(zip(scf_done_values, grimme_d3_values)):\n",
    "                adjusted_scf_done = scf_done - grimme_d3\n",
    "                csv_data.append([filename, i+1, scf_done, grimme_d3, adjusted_scf_done])     \n",
    "                \n",
    "            \n",
    "output_csv_path = output_csv_path + filename.replace(\"out\", \"csv\")\n",
    "# CSVファイルにデータを書き込む\n",
    "with open(output_csv_path, 'w', newline='') as csvfile:\n",
    "    writer = csv.writer(csvfile)\n",
    "    writer.writerow(headers)\n",
    "    writer.writerows(csv_data)\n"
   ]
  },
  {
   "cell_type": "code",
   "execution_count": null,
   "id": "566b81ed-c5b9-4b86-9527-bc9331782ec6",
   "metadata": {},
   "outputs": [],
   "source": []
  }
 ],
 "metadata": {
  "kernelspec": {
   "display_name": "Python 3",
   "language": "python",
   "name": "python3"
  },
  "language_info": {
   "codemirror_mode": {
    "name": "ipython",
    "version": 3
   },
   "file_extension": ".py",
   "mimetype": "text/x-python",
   "name": "python",
   "nbconvert_exporter": "python",
   "pygments_lexer": "ipython3",
   "version": "3.8.8"
  }
 },
 "nbformat": 4,
 "nbformat_minor": 5
}
